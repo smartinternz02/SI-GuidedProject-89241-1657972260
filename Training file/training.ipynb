{
 "cells": [
  {
   "cell_type": "code",
   "execution_count": 1,
   "id": "d28c672e-2adf-48d4-a932-9eead3615484",
   "metadata": {},
   "outputs": [],
   "source": [
    "from tensorflow.keras.preprocessing.image import ImageDataGenerator"
   ]
  },
  {
   "cell_type": "code",
   "execution_count": 2,
   "id": "59fd6cd1-d07f-4142-9fb5-ad8b39e4d6f8",
   "metadata": {},
   "outputs": [],
   "source": [
    "\n",
    "train_datagen = ImageDataGenerator(rescale=1/255,zoom_range=0.2,horizontal_flip=True,vertical_flip=False)\n",
    "test_datagen = ImageDataGenerator(rescale=1/255)"
   ]
  },
  {
   "cell_type": "code",
   "execution_count": 4,
   "id": "abb15498-7081-4159-8bc2-9446325480b8",
   "metadata": {},
   "outputs": [
    {
     "name": "stdout",
     "output_type": "stream",
     "text": [
      "Found 15750 images belonging to 9 classes.\n",
      "Found 2250 images belonging to 9 classes.\n"
     ]
    }
   ],
   "source": [
    "# Training Dataset\n",
    "x_train=train_datagen.flow_from_directory(r'C:\\Users\\HP\\Downloads\\asl alphabets ai\\ProjectFiles\\Dataset\\training_set',target_size=(64,64), class_mode='categorical',batch_size=900)\n",
    "# Testing Dataset\n",
    "x_test=test_datagen.flow_from_directory(r'C:\\Users\\HP\\Downloads\\asl alphabets ai\\ProjectFiles\\Dataset\\test_set',target_size=(64,64), class_mode='categorical',batch_size=900)"
   ]
  },
  {
   "cell_type": "code",
   "execution_count": 5,
   "id": "95d51502-6c7f-481f-93d1-fbbf8d4b8312",
   "metadata": {},
   "outputs": [
    {
     "name": "stdout",
     "output_type": "stream",
     "text": [
      "Len x-train :  18\n",
      "Len x-test :  3\n"
     ]
    }
   ],
   "source": [
    "print(\"Len x-train : \", len(x_train))\n",
    "print(\"Len x-test : \", len(x_test))"
   ]
  },
  {
   "cell_type": "code",
   "execution_count": 6,
   "id": "0c7bd1a5-f00c-4e38-8b2b-7d72b87c8342",
   "metadata": {},
   "outputs": [
    {
     "data": {
      "text/plain": [
       "{'A': 0, 'B': 1, 'C': 2, 'D': 3, 'E': 4, 'F': 5, 'G': 6, 'H': 7, 'I': 8}"
      ]
     },
     "execution_count": 6,
     "metadata": {},
     "output_type": "execute_result"
    }
   ],
   "source": [
    "# The Class Indices in Training Dataset\n",
    "x_train.class_indices"
   ]
  },
  {
   "cell_type": "markdown",
   "id": "587735d2-c2e1-41d9-9977-c2cc95d292d1",
   "metadata": {},
   "source": [
    "### Model Creation"
   ]
  },
  {
   "cell_type": "code",
   "execution_count": 15,
   "id": "ce455129-151f-4d93-b620-f9db2406426a",
   "metadata": {},
   "outputs": [],
   "source": [
    "# Importing Libraries\n",
    "from tensorflow.keras.models import Sequential\n",
    "from tensorflow.keras.layers import Convolution2D,MaxPooling2D,Flatten,Dense"
   ]
  },
  {
   "cell_type": "code",
   "execution_count": 16,
   "id": "c153d655-bf2a-4736-86b6-ec89a4e165c9",
   "metadata": {},
   "outputs": [],
   "source": [
    "# Creating Model\n",
    "model=Sequential()"
   ]
  },
  {
   "cell_type": "code",
   "execution_count": 17,
   "id": "9e37f026-48f0-4ce0-93c5-03c15d18c86a",
   "metadata": {},
   "outputs": [],
   "source": [
    "# Adding Layers\n",
    "model.add(Convolution2D(32,(3,3),activation='relu',input_shape=(64,64,3)))\n",
    "model.add(MaxPooling2D(pool_size=(2,2)))\n",
    "model.add(Flatten())\n",
    "\n",
    "# Adding Hidden Layers\n",
    "model.add(Dense(300,activation='relu'))\n",
    "model.add(Dense(150,activation='relu'))\n",
    "\n",
    "# Adding Output Layer\n",
    "model.add(Dense(9,activation='softmax'))"
   ]
  },
  {
   "cell_type": "code",
   "execution_count": 19,
   "id": "29f8b091-69b3-4fea-b6d4-6ea92c4fb717",
   "metadata": {},
   "outputs": [],
   "source": [
    "# Compiling the Model\n",
    "model.compile(loss='categorical_crossentropy',optimizer='adam',metrics=['accuracy'])"
   ]
  },
  {
   "cell_type": "code",
   "execution_count": 22,
   "id": "b534c848-a41a-4332-af56-332b8ae63065",
   "metadata": {},
   "outputs": [
    {
     "name": "stdout",
     "output_type": "stream",
     "text": [
      "Epoch 1/10\n",
      "18/18 [==============================] - 74s 4s/step - loss: 0.1971 - accuracy: 0.9455 - val_loss: 0.1936 - val_accuracy: 0.9493\n",
      "Epoch 2/10\n",
      "18/18 [==============================] - 74s 4s/step - loss: 0.0937 - accuracy: 0.9750 - val_loss: 0.1569 - val_accuracy: 0.9631\n",
      "Epoch 3/10\n",
      "18/18 [==============================] - 74s 4s/step - loss: 0.0482 - accuracy: 0.9888 - val_loss: 0.1560 - val_accuracy: 0.9684\n",
      "Epoch 4/10\n",
      "18/18 [==============================] - 74s 4s/step - loss: 0.0308 - accuracy: 0.9928 - val_loss: 0.1673 - val_accuracy: 0.9764\n",
      "Epoch 5/10\n",
      "18/18 [==============================] - 74s 4s/step - loss: 0.0220 - accuracy: 0.9952 - val_loss: 0.1677 - val_accuracy: 0.9698\n",
      "Epoch 6/10\n",
      "18/18 [==============================] - 74s 4s/step - loss: 0.0147 - accuracy: 0.9970 - val_loss: 0.1638 - val_accuracy: 0.9769\n",
      "Epoch 7/10\n",
      "18/18 [==============================] - 74s 4s/step - loss: 0.0081 - accuracy: 0.9987 - val_loss: 0.1804 - val_accuracy: 0.9769\n",
      "Epoch 8/10\n",
      "18/18 [==============================] - 74s 4s/step - loss: 0.0080 - accuracy: 0.9984 - val_loss: 0.1696 - val_accuracy: 0.9769\n",
      "Epoch 9/10\n",
      "18/18 [==============================] - 74s 4s/step - loss: 0.0064 - accuracy: 0.9990 - val_loss: 0.2145 - val_accuracy: 0.9769\n",
      "Epoch 10/10\n",
      "18/18 [==============================] - 75s 4s/step - loss: 0.0050 - accuracy: 0.9992 - val_loss: 0.2100 - val_accuracy: 0.9769\n"
     ]
    },
    {
     "data": {
      "text/plain": [
       "<keras.callbacks.History at 0x230bd328550>"
      ]
     },
     "execution_count": 22,
     "metadata": {},
     "output_type": "execute_result"
    }
   ],
   "source": [
    "# Fitting the Model Generator\n",
    "model.fit(x_train,steps_per_epoch=len(x_train),epochs=10,validation_data=x_test,validation_steps=len(x_test))"
   ]
  },
  {
   "cell_type": "markdown",
   "id": "05ad001b-c47a-4d0b-9cdb-d085afd83383",
   "metadata": {},
   "source": [
    "### Saving the Model"
   ]
  },
  {
   "cell_type": "code",
   "execution_count": 12,
   "id": "952eca53-e5aa-4ad5-a868-5fd34080eafa",
   "metadata": {},
   "outputs": [],
   "source": [
    "model.save('speciallyabled.h5')\n"
   ]
  },
  {
   "cell_type": "code",
   "execution_count": null,
   "id": "99428b29",
   "metadata": {},
   "outputs": [],
   "source": []
  }
 ],
 "metadata": {
  "interpreter": {
   "hash": "4f0f97fd6c5ecc85c2cf8f5e01f5fe1d66323d0c47c6f4b81bd3f87b7ad3ebb6"
  },
  "kernelspec": {
   "display_name": "Python 3 (ipykernel)",
   "language": "python",
   "name": "python3"
  },
  "language_info": {
   "codemirror_mode": {
    "name": "ipython",
    "version": 3
   },
   "file_extension": ".py",
   "mimetype": "text/x-python",
   "name": "python",
   "nbconvert_exporter": "python",
   "pygments_lexer": "ipython3",
   "version": "3.9.12"
  }
 },
 "nbformat": 4,
 "nbformat_minor": 5
}
